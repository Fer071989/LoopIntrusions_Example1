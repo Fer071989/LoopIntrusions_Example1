{
 "cells": [
  {
   "cell_type": "markdown",
   "metadata": {},
   "source": [
    "# Functions"
   ]
  },
  {
   "cell_type": "code",
   "execution_count": null,
   "metadata": {},
   "outputs": [],
   "source": [
    "def strike_vector(surface_gradients_points):\n",
    "    #calculates the strike vector of a surface with gradient = surface_gradient\n",
    "    strike_v = np.zeros([len(surface_gradients_points),3])\n",
    "    for i in range(len(surface_gradients_points)):\n",
    "        sox = surface_gradients_points[i,1]\n",
    "        soy = -surface_gradients_points[i,0]\n",
    "        soz = 0\n",
    "        norm_so = np.linalg.norm(np.array([sox,soy,soz]))\n",
    "        strike_v[i] = np.array([sox,soy,soz])/norm_so\n",
    "    \n",
    "    return strike_v\n",
    "\n",
    "def dip_vector(surface_gradient):\n",
    "    #calculates the dip vector of a surface with gradient = surface_gradient\n",
    "    pox = -surface_gradient[0]*surface_gradient[2]\n",
    "    poy = -surface_gradient[1]*surface_gradient[2]\n",
    "    poz = pow(surface_gradient[1],2)+pow(surface_gradient[0],2)\n",
    "    norm_po = np.linalg.norm(np.array([pox,poy,poz]))\n",
    "    dip_v = np.array([pox,poy,poz])/norm_po\n",
    "    \n",
    "    return dip_v"
   ]
  }
 ],
 "metadata": {
  "kernelspec": {
   "display_name": "Python 3",
   "language": "python",
   "name": "python3"
  },
  "language_info": {
   "codemirror_mode": {
    "name": "ipython",
    "version": 3
   },
   "file_extension": ".py",
   "mimetype": "text/x-python",
   "name": "python",
   "nbconvert_exporter": "python",
   "pygments_lexer": "ipython3",
   "version": "3.7.3"
  }
 },
 "nbformat": 4,
 "nbformat_minor": 4
}
