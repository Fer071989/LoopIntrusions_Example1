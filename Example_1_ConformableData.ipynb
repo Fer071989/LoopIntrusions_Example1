{
 "cells": [
  {
   "cell_type": "code",
   "execution_count": 23,
   "metadata": {},
   "outputs": [],
   "source": [
    "import numpy as np\n",
    "\n",
    "extent = np.zeros((3,2))\n",
    "extent[:,1] = 10\n",
    "\n",
    "x = np.linspace(0,10,10)\n",
    "y = np.linspace(0,10,10)\n",
    "\n",
    "xx,yy = np.meshgrid(x,y)\n",
    "zz = np.zeros_like(xx)\n",
    "zz[:,:4] = 1 + np.random.random(zz[:,:4].shape)/5\n",
    "zz[:,4] = 2 + np.random.random(zz[:,4].shape)/5\n",
    "zz[:,5] = 3 + np.random.random(zz[:,5].shape)/5\n",
    "zz[:,6:] = 4 + np.random.random(zz[:,6:].shape)/5\n",
    "# print(zz)\n",
    "val = np.zeros_like(xx)\n",
    "val[:] = 0\n",
    "surface_1 = np.array([xx.flatten(),yy.flatten(),zz.flatten(),val.flatten()]).T\n",
    "zz[:,:4] = 5 + np.random.random(zz[:,:4].shape)/5\n",
    "zz[:,4] = 6 + np.random.random(zz[:,4].shape)/5\n",
    "zz[:,5] = 7 + np.random.random(zz[:,5].shape)/5\n",
    "zz[:,6:] = 8 + np.random.random(zz[:,6:].shape)/5\n",
    "val[:] = 1\n",
    "\n",
    "surface_2 = np.array([xx.flatten(),yy.flatten(),zz.flatten(),val.flatten()]).T"
   ]
  },
  {
   "cell_type": "code",
   "execution_count": 24,
   "metadata": {},
   "outputs": [
    {
     "data": {
      "text/html": [
       "<div>\n",
       "<style scoped>\n",
       "    .dataframe tbody tr th:only-of-type {\n",
       "        vertical-align: middle;\n",
       "    }\n",
       "\n",
       "    .dataframe tbody tr th {\n",
       "        vertical-align: top;\n",
       "    }\n",
       "\n",
       "    .dataframe thead th {\n",
       "        text-align: right;\n",
       "    }\n",
       "</style>\n",
       "<table border=\"1\" class=\"dataframe\">\n",
       "  <thead>\n",
       "    <tr style=\"text-align: right;\">\n",
       "      <th></th>\n",
       "      <th>X</th>\n",
       "      <th>Y</th>\n",
       "      <th>Z</th>\n",
       "      <th>val</th>\n",
       "      <th>type</th>\n",
       "    </tr>\n",
       "  </thead>\n",
       "  <tbody>\n",
       "    <tr>\n",
       "      <th>0</th>\n",
       "      <td>0.000000</td>\n",
       "      <td>0.0</td>\n",
       "      <td>1.053790</td>\n",
       "      <td>0.0</td>\n",
       "      <td>conformable</td>\n",
       "    </tr>\n",
       "    <tr>\n",
       "      <th>1</th>\n",
       "      <td>1.111111</td>\n",
       "      <td>0.0</td>\n",
       "      <td>1.007444</td>\n",
       "      <td>0.0</td>\n",
       "      <td>conformable</td>\n",
       "    </tr>\n",
       "    <tr>\n",
       "      <th>2</th>\n",
       "      <td>2.222222</td>\n",
       "      <td>0.0</td>\n",
       "      <td>1.112678</td>\n",
       "      <td>0.0</td>\n",
       "      <td>conformable</td>\n",
       "    </tr>\n",
       "    <tr>\n",
       "      <th>3</th>\n",
       "      <td>3.333333</td>\n",
       "      <td>0.0</td>\n",
       "      <td>1.043188</td>\n",
       "      <td>0.0</td>\n",
       "      <td>conformable</td>\n",
       "    </tr>\n",
       "    <tr>\n",
       "      <th>4</th>\n",
       "      <td>4.444444</td>\n",
       "      <td>0.0</td>\n",
       "      <td>2.017030</td>\n",
       "      <td>0.0</td>\n",
       "      <td>conformable</td>\n",
       "    </tr>\n",
       "  </tbody>\n",
       "</table>\n",
       "</div>"
      ],
      "text/plain": [
       "          X    Y         Z  val         type\n",
       "0  0.000000  0.0  1.053790  0.0  conformable\n",
       "1  1.111111  0.0  1.007444  0.0  conformable\n",
       "2  2.222222  0.0  1.112678  0.0  conformable\n",
       "3  3.333333  0.0  1.043188  0.0  conformable\n",
       "4  4.444444  0.0  2.017030  0.0  conformable"
      ]
     },
     "execution_count": 24,
     "metadata": {},
     "output_type": "execute_result"
    }
   ],
   "source": [
    "import pandas as pd\n",
    "\n",
    "data = pd.DataFrame(np.vstack([surface_1,surface_2]),columns=['X','Y','Z','val'])\n",
    "data['type'] = 'conformable'\n",
    "data.head()"
   ]
  },
  {
   "cell_type": "code",
   "execution_count": 25,
   "metadata": {},
   "outputs": [],
   "source": [
    "data.to_csv('C:/Users/falv0002/Documents/Repositories/ODSIM/Intrusion_Network_Def/Comformable_data.csv')"
   ]
  },
  {
   "cell_type": "code",
   "execution_count": null,
   "metadata": {},
   "outputs": [],
   "source": []
  }
 ],
 "metadata": {
  "kernelspec": {
   "display_name": "Python 3",
   "language": "python",
   "name": "python3"
  },
  "language_info": {
   "codemirror_mode": {
    "name": "ipython",
    "version": 3
   },
   "file_extension": ".py",
   "mimetype": "text/x-python",
   "name": "python",
   "nbconvert_exporter": "python",
   "pygments_lexer": "ipython3",
   "version": "3.7.3"
  }
 },
 "nbformat": 4,
 "nbformat_minor": 4
}
